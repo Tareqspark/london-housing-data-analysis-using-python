{
 "cells": [
  {
   "cell_type": "code",
   "execution_count": 1,
   "id": "5ca0d9ff-8400-49b3-9573-b4c12031a9cd",
   "metadata": {},
   "outputs": [],
   "source": [
    "import pandas as pd\n",
    "# for numeric calculations"
   ]
  },
  {
   "cell_type": "code",
   "execution_count": 2,
   "id": "03af9b94-a3c2-41c6-a307-06390ec12075",
   "metadata": {},
   "outputs": [],
   "source": [
    "#for visualization purpose\n",
    "import seaborn as sns\n",
    "import matplotlib.pyplot as plt"
   ]
  },
  {
   "cell_type": "code",
   "execution_count": 3,
   "id": "e2dc1600-639b-460a-9d67-065c29581c64",
   "metadata": {},
   "outputs": [],
   "source": [
    "import warnings\n",
    "warnings.simplefilter(action='ignore', category=FutureWarning)\n",
    "def fxn():\n",
    "    warnings.warn(\"deprecated\", DeprecationWarning)\n",
    "\n",
    "with warnings.catch_warnings():\n",
    "    warnings.simplefilter(\"ignore\")\n",
    "    fxn()\n",
    "# to avoid future warning"
   ]
  },
  {
   "cell_type": "code",
   "execution_count": 4,
   "id": "8385a5bb-4b74-46aa-930d-a3204282f76a",
   "metadata": {},
   "outputs": [],
   "source": [
    "df=pd.read_csv(\"housing.csv\")\n",
    "#imported CSV data"
   ]
  },
  {
   "cell_type": "code",
   "execution_count": 5,
   "id": "44e559f5-f1ba-4c71-84bb-3ac3a9bf150c",
   "metadata": {},
   "outputs": [
    {
     "data": {
      "text/html": [
       "<div>\n",
       "<style scoped>\n",
       "    .dataframe tbody tr th:only-of-type {\n",
       "        vertical-align: middle;\n",
       "    }\n",
       "\n",
       "    .dataframe tbody tr th {\n",
       "        vertical-align: top;\n",
       "    }\n",
       "\n",
       "    .dataframe thead th {\n",
       "        text-align: right;\n",
       "    }\n",
       "</style>\n",
       "<table border=\"1\" class=\"dataframe\">\n",
       "  <thead>\n",
       "    <tr style=\"text-align: right;\">\n",
       "      <th></th>\n",
       "      <th>date</th>\n",
       "      <th>area</th>\n",
       "      <th>average_price</th>\n",
       "      <th>code</th>\n",
       "      <th>houses_sold</th>\n",
       "      <th>no_of_crimes</th>\n",
       "    </tr>\n",
       "  </thead>\n",
       "  <tbody>\n",
       "    <tr>\n",
       "      <th>0</th>\n",
       "      <td>1/1/1995</td>\n",
       "      <td>city of london</td>\n",
       "      <td>91449</td>\n",
       "      <td>E09000001</td>\n",
       "      <td>17.0</td>\n",
       "      <td>NaN</td>\n",
       "    </tr>\n",
       "    <tr>\n",
       "      <th>1</th>\n",
       "      <td>2/1/1995</td>\n",
       "      <td>city of london</td>\n",
       "      <td>82203</td>\n",
       "      <td>E09000001</td>\n",
       "      <td>7.0</td>\n",
       "      <td>NaN</td>\n",
       "    </tr>\n",
       "    <tr>\n",
       "      <th>2</th>\n",
       "      <td>3/1/1995</td>\n",
       "      <td>city of london</td>\n",
       "      <td>79121</td>\n",
       "      <td>E09000001</td>\n",
       "      <td>14.0</td>\n",
       "      <td>NaN</td>\n",
       "    </tr>\n",
       "    <tr>\n",
       "      <th>3</th>\n",
       "      <td>4/1/1995</td>\n",
       "      <td>city of london</td>\n",
       "      <td>77101</td>\n",
       "      <td>E09000001</td>\n",
       "      <td>7.0</td>\n",
       "      <td>NaN</td>\n",
       "    </tr>\n",
       "    <tr>\n",
       "      <th>4</th>\n",
       "      <td>5/1/1995</td>\n",
       "      <td>city of london</td>\n",
       "      <td>84409</td>\n",
       "      <td>E09000001</td>\n",
       "      <td>10.0</td>\n",
       "      <td>NaN</td>\n",
       "    </tr>\n",
       "  </tbody>\n",
       "</table>\n",
       "</div>"
      ],
      "text/plain": [
       "       date            area  average_price       code  houses_sold  \\\n",
       "0  1/1/1995  city of london          91449  E09000001         17.0   \n",
       "1  2/1/1995  city of london          82203  E09000001          7.0   \n",
       "2  3/1/1995  city of london          79121  E09000001         14.0   \n",
       "3  4/1/1995  city of london          77101  E09000001          7.0   \n",
       "4  5/1/1995  city of london          84409  E09000001         10.0   \n",
       "\n",
       "   no_of_crimes  \n",
       "0           NaN  \n",
       "1           NaN  \n",
       "2           NaN  \n",
       "3           NaN  \n",
       "4           NaN  "
      ]
     },
     "execution_count": 5,
     "metadata": {},
     "output_type": "execute_result"
    }
   ],
   "source": [
    "df.head()\n",
    "#to check the data"
   ]
  },
  {
   "cell_type": "code",
   "execution_count": 6,
   "id": "3ae86d46-a147-4ce3-ab99-fd3fb5c50b0a",
   "metadata": {},
   "outputs": [
    {
     "name": "stdout",
     "output_type": "stream",
     "text": [
      "<class 'pandas.core.frame.DataFrame'>\n",
      "RangeIndex: 13549 entries, 0 to 13548\n",
      "Data columns (total 6 columns):\n",
      " #   Column         Non-Null Count  Dtype  \n",
      "---  ------         --------------  -----  \n",
      " 0   date           13549 non-null  object \n",
      " 1   area           13549 non-null  object \n",
      " 2   average_price  13549 non-null  int64  \n",
      " 3   code           13549 non-null  object \n",
      " 4   houses_sold    13455 non-null  float64\n",
      " 5   no_of_crimes   7439 non-null   float64\n",
      "dtypes: float64(2), int64(1), object(3)\n",
      "memory usage: 635.2+ KB\n"
     ]
    }
   ],
   "source": [
    "df.info()\n",
    "# to get all the info od CSV"
   ]
  },
  {
   "cell_type": "code",
   "execution_count": 7,
   "id": "6eb7e505-1a50-4f69-a613-686170358f08",
   "metadata": {},
   "outputs": [],
   "source": [
    "# I do not like the columns name as they have writen, SO i gonna change it on my own interest\n",
    "\n",
    "df.rename(columns={\"average_price\":\"aprice\" , \"houses_sold\":\"sold\" , \"no_of_crimes\":\"crimes\"} , inplace = True)"
   ]
  },
  {
   "cell_type": "code",
   "execution_count": 8,
   "id": "b0363761-b648-4630-822b-bce1b0511688",
   "metadata": {},
   "outputs": [
    {
     "data": {
      "text/html": [
       "<div>\n",
       "<style scoped>\n",
       "    .dataframe tbody tr th:only-of-type {\n",
       "        vertical-align: middle;\n",
       "    }\n",
       "\n",
       "    .dataframe tbody tr th {\n",
       "        vertical-align: top;\n",
       "    }\n",
       "\n",
       "    .dataframe thead th {\n",
       "        text-align: right;\n",
       "    }\n",
       "</style>\n",
       "<table border=\"1\" class=\"dataframe\">\n",
       "  <thead>\n",
       "    <tr style=\"text-align: right;\">\n",
       "      <th></th>\n",
       "      <th>date</th>\n",
       "      <th>area</th>\n",
       "      <th>aprice</th>\n",
       "      <th>code</th>\n",
       "      <th>sold</th>\n",
       "      <th>crimes</th>\n",
       "    </tr>\n",
       "  </thead>\n",
       "  <tbody>\n",
       "    <tr>\n",
       "      <th>0</th>\n",
       "      <td>1/1/1995</td>\n",
       "      <td>city of london</td>\n",
       "      <td>91449</td>\n",
       "      <td>E09000001</td>\n",
       "      <td>17.0</td>\n",
       "      <td>NaN</td>\n",
       "    </tr>\n",
       "    <tr>\n",
       "      <th>1</th>\n",
       "      <td>2/1/1995</td>\n",
       "      <td>city of london</td>\n",
       "      <td>82203</td>\n",
       "      <td>E09000001</td>\n",
       "      <td>7.0</td>\n",
       "      <td>NaN</td>\n",
       "    </tr>\n",
       "    <tr>\n",
       "      <th>2</th>\n",
       "      <td>3/1/1995</td>\n",
       "      <td>city of london</td>\n",
       "      <td>79121</td>\n",
       "      <td>E09000001</td>\n",
       "      <td>14.0</td>\n",
       "      <td>NaN</td>\n",
       "    </tr>\n",
       "    <tr>\n",
       "      <th>3</th>\n",
       "      <td>4/1/1995</td>\n",
       "      <td>city of london</td>\n",
       "      <td>77101</td>\n",
       "      <td>E09000001</td>\n",
       "      <td>7.0</td>\n",
       "      <td>NaN</td>\n",
       "    </tr>\n",
       "    <tr>\n",
       "      <th>4</th>\n",
       "      <td>5/1/1995</td>\n",
       "      <td>city of london</td>\n",
       "      <td>84409</td>\n",
       "      <td>E09000001</td>\n",
       "      <td>10.0</td>\n",
       "      <td>NaN</td>\n",
       "    </tr>\n",
       "  </tbody>\n",
       "</table>\n",
       "</div>"
      ],
      "text/plain": [
       "       date            area  aprice       code  sold  crimes\n",
       "0  1/1/1995  city of london   91449  E09000001  17.0     NaN\n",
       "1  2/1/1995  city of london   82203  E09000001   7.0     NaN\n",
       "2  3/1/1995  city of london   79121  E09000001  14.0     NaN\n",
       "3  4/1/1995  city of london   77101  E09000001   7.0     NaN\n",
       "4  5/1/1995  city of london   84409  E09000001  10.0     NaN"
      ]
     },
     "execution_count": 8,
     "metadata": {},
     "output_type": "execute_result"
    }
   ],
   "source": [
    "df.head()"
   ]
  },
  {
   "cell_type": "code",
   "execution_count": 9,
   "id": "e37eec22-b929-4a8b-9e60-1382533eda4e",
   "metadata": {},
   "outputs": [
    {
     "data": {
      "text/plain": [
       "date      13549\n",
       "area      13549\n",
       "aprice    13549\n",
       "code      13549\n",
       "sold      13455\n",
       "crimes     7439\n",
       "dtype: int64"
      ]
     },
     "execution_count": 9,
     "metadata": {},
     "output_type": "execute_result"
    }
   ],
   "source": [
    "df.count()\n",
    "# To count the full data"
   ]
  },
  {
   "cell_type": "code",
   "execution_count": 10,
   "id": "4f5e6d32-a02d-4bb4-a8e9-693593fbfbfd",
   "metadata": {},
   "outputs": [
    {
     "data": {
      "text/plain": [
       "date         0\n",
       "area         0\n",
       "aprice       0\n",
       "code         0\n",
       "sold        94\n",
       "crimes    6110\n",
       "dtype: int64"
      ]
     },
     "execution_count": 10,
     "metadata": {},
     "output_type": "execute_result"
    }
   ],
   "source": [
    "df.isnull().sum()\n",
    "# To find the null / missing data"
   ]
  },
  {
   "cell_type": "code",
   "execution_count": 11,
   "id": "b1acbfa8-d4de-48a2-a354-fcda11c1fe24",
   "metadata": {},
   "outputs": [
    {
     "data": {
      "text/plain": [
       "'Heatmap is defined as a graphical representation of data using colors to visualize the value of the matrix.\\nIn this, to represent more common values or higher activities brighter colors basically reddish colors are used and to represent less common or activity values, darker colors are preferred. \\nHeatmap is also defined by the name of the shading matrix. \\nHeatmaps in Seaborn can be plotted by using the seaborn.heatmap() function.'"
      ]
     },
     "execution_count": 11,
     "metadata": {},
     "output_type": "execute_result"
    }
   ],
   "source": [
    "\"\"\"Heatmap is defined as a graphical representation of data using colors to visualize the value of the matrix.\n",
    "In this, to represent more common values or higher activities brighter colors basically reddish colors are used and to represent less common or activity values, darker colors are preferred. \n",
    "Heatmap is also defined by the name of the shading matrix. \n",
    "Heatmaps in Seaborn can be plotted by using the seaborn.heatmap() function.\"\"\""
   ]
  },
  {
   "cell_type": "code",
   "execution_count": 12,
   "id": "3f6c4742-c121-420f-8641-c10e566084d3",
   "metadata": {},
   "outputs": [
    {
     "data": {
      "image/png": "[encoded data removed]",
      "text/plain": [
       "<Figure size 640x480 with 2 Axes>"
      ]
     },
     "metadata": {},
     "output_type": "display_data"
    }
   ],
   "source": [
    "sns.heatmap(df.isnull())\n",
    "plt.show()"
   ]
  },
  {
   "cell_type": "raw",
   "id": "be6617ea-d1e2-4e73-a1e6-364b8e1cb3c7",
   "metadata": {},
   "source": [
    "Convert the Datatype of 'Date' column to Date-Time format.\n",
    "ie 1/1/1995 to 1995-01-01"
   ]
  },
  {
   "cell_type": "code",
   "execution_count": 13,
   "id": "32d5b1a2-4ae5-440c-a323-58c21f3d3fea",
   "metadata": {},
   "outputs": [
    {
     "data": {
      "text/html": [
       "<div>\n",
       "<style scoped>\n",
       "    .dataframe tbody tr th:only-of-type {\n",
       "        vertical-align: middle;\n",
       "    }\n",
       "\n",
       "    .dataframe tbody tr th {\n",
       "        vertical-align: top;\n",
       "    }\n",
       "\n",
       "    .dataframe thead th {\n",
       "        text-align: right;\n",
       "    }\n",
       "</style>\n",
       "<table border=\"1\" class=\"dataframe\">\n",
       "  <thead>\n",
       "    <tr style=\"text-align: right;\">\n",
       "      <th></th>\n",
       "      <th>date</th>\n",
       "      <th>area</th>\n",
       "      <th>aprice</th>\n",
       "      <th>code</th>\n",
       "      <th>sold</th>\n",
       "      <th>crimes</th>\n",
       "    </tr>\n",
       "  </thead>\n",
       "  <tbody>\n",
       "    <tr>\n",
       "      <th>0</th>\n",
       "      <td>1/1/1995</td>\n",
       "      <td>city of london</td>\n",
       "      <td>91449</td>\n",
       "      <td>E09000001</td>\n",
       "      <td>17.0</td>\n",
       "      <td>NaN</td>\n",
       "    </tr>\n",
       "    <tr>\n",
       "      <th>1</th>\n",
       "      <td>2/1/1995</td>\n",
       "      <td>city of london</td>\n",
       "      <td>82203</td>\n",
       "      <td>E09000001</td>\n",
       "      <td>7.0</td>\n",
       "      <td>NaN</td>\n",
       "    </tr>\n",
       "    <tr>\n",
       "      <th>2</th>\n",
       "      <td>3/1/1995</td>\n",
       "      <td>city of london</td>\n",
       "      <td>79121</td>\n",
       "      <td>E09000001</td>\n",
       "      <td>14.0</td>\n",
       "      <td>NaN</td>\n",
       "    </tr>\n",
       "    <tr>\n",
       "      <th>3</th>\n",
       "      <td>4/1/1995</td>\n",
       "      <td>city of london</td>\n",
       "      <td>77101</td>\n",
       "      <td>E09000001</td>\n",
       "      <td>7.0</td>\n",
       "      <td>NaN</td>\n",
       "    </tr>\n",
       "    <tr>\n",
       "      <th>4</th>\n",
       "      <td>5/1/1995</td>\n",
       "      <td>city of london</td>\n",
       "      <td>84409</td>\n",
       "      <td>E09000001</td>\n",
       "      <td>10.0</td>\n",
       "      <td>NaN</td>\n",
       "    </tr>\n",
       "  </tbody>\n",
       "</table>\n",
       "</div>"
      ],
      "text/plain": [
       "       date            area  aprice       code  sold  crimes\n",
       "0  1/1/1995  city of london   91449  E09000001  17.0     NaN\n",
       "1  2/1/1995  city of london   82203  E09000001   7.0     NaN\n",
       "2  3/1/1995  city of london   79121  E09000001  14.0     NaN\n",
       "3  4/1/1995  city of london   77101  E09000001   7.0     NaN\n",
       "4  5/1/1995  city of london   84409  E09000001  10.0     NaN"
      ]
     },
     "execution_count": 13,
     "metadata": {},
     "output_type": "execute_result"
    }
   ],
   "source": [
    "df.head()"
   ]
  },
  {
   "cell_type": "code",
   "execution_count": 17,
   "id": "7b881aca-58cd-4fa3-bab7-d413e6e7a037",
   "metadata": {},
   "outputs": [
    {
     "data": {
      "text/html": [
       "<div>\n",
       "<style scoped>\n",
       "    .dataframe tbody tr th:only-of-type {\n",
       "        vertical-align: middle;\n",
       "    }\n",
       "\n",
       "    .dataframe tbody tr th {\n",
       "        vertical-align: top;\n",
       "    }\n",
       "\n",
       "    .dataframe thead th {\n",
       "        text-align: right;\n",
       "    }\n",
       "</style>\n",
       "<table border=\"1\" class=\"dataframe\">\n",
       "  <thead>\n",
       "    <tr style=\"text-align: right;\">\n",
       "      <th></th>\n",
       "      <th>date</th>\n",
       "      <th>area</th>\n",
       "      <th>aprice</th>\n",
       "      <th>code</th>\n",
       "      <th>sold</th>\n",
       "      <th>crimes</th>\n",
       "    </tr>\n",
       "  </thead>\n",
       "  <tbody>\n",
       "    <tr>\n",
       "      <th>0</th>\n",
       "      <td>1995-01-01</td>\n",
       "      <td>city of london</td>\n",
       "      <td>91449</td>\n",
       "      <td>E09000001</td>\n",
       "      <td>17.0</td>\n",
       "      <td>NaN</td>\n",
       "    </tr>\n",
       "    <tr>\n",
       "      <th>1</th>\n",
       "      <td>1995-02-01</td>\n",
       "      <td>city of london</td>\n",
       "      <td>82203</td>\n",
       "      <td>E09000001</td>\n",
       "      <td>7.0</td>\n",
       "      <td>NaN</td>\n",
       "    </tr>\n",
       "    <tr>\n",
       "      <th>2</th>\n",
       "      <td>1995-03-01</td>\n",
       "      <td>city of london</td>\n",
       "      <td>79121</td>\n",
       "      <td>E09000001</td>\n",
       "      <td>14.0</td>\n",
       "      <td>NaN</td>\n",
       "    </tr>\n",
       "    <tr>\n",
       "      <th>3</th>\n",
       "      <td>1995-04-01</td>\n",
       "      <td>city of london</td>\n",
       "      <td>77101</td>\n",
       "      <td>E09000001</td>\n",
       "      <td>7.0</td>\n",
       "      <td>NaN</td>\n",
       "    </tr>\n",
       "    <tr>\n",
       "      <th>4</th>\n",
       "      <td>1995-05-01</td>\n",
       "      <td>city of london</td>\n",
       "      <td>84409</td>\n",
       "      <td>E09000001</td>\n",
       "      <td>10.0</td>\n",
       "      <td>NaN</td>\n",
       "    </tr>\n",
       "  </tbody>\n",
       "</table>\n",
       "</div>"
      ],
      "text/plain": [
       "        date            area  aprice       code  sold  crimes\n",
       "0 1995-01-01  city of london   91449  E09000001  17.0     NaN\n",
       "1 1995-02-01  city of london   82203  E09000001   7.0     NaN\n",
       "2 1995-03-01  city of london   79121  E09000001  14.0     NaN\n",
       "3 1995-04-01  city of london   77101  E09000001   7.0     NaN\n",
       "4 1995-05-01  city of london   84409  E09000001  10.0     NaN"
      ]
     },
     "execution_count": 17,
     "metadata": {},
     "output_type": "execute_result"
    }
   ],
   "source": [
    "df.date = pd.to_datetime(df.date)\n",
    "df.head()\n",
    "#format date columns to datetime "
   ]
  },
  {
   "cell_type": "code",
   "execution_count": 20,
   "id": "d304580f-a3d7-4b6e-bd49-32c60cc39d7e",
   "metadata": {},
   "outputs": [
    {
     "data": {
      "text/plain": [
       "date      datetime64[ns]\n",
       "area              object\n",
       "aprice             int64\n",
       "code              object\n",
       "sold             float64\n",
       "crimes           float64\n",
       "dtype: object"
      ]
     },
     "execution_count": 20,
     "metadata": {},
     "output_type": "execute_result"
    }
   ],
   "source": [
    "df.dtypes\n",
    "#to Check the data type of each columns"
   ]
  },
  {
   "cell_type": "markdown",
   "id": "0fb3e6b8-cfe1-44eb-8281-c010f527bf5b",
   "metadata": {},
   "source": [
    "### Add a new column ''year'' in the dataframe, which contains years only."
   ]
  },
  {
   "cell_type": "code",
   "execution_count": 22,
   "id": "0a2db18f-9105-4d1f-a890-f479267776f8",
   "metadata": {},
   "outputs": [],
   "source": [
    "df['year'] = df.date.dt.year"
   ]
  },
  {
   "cell_type": "code",
   "execution_count": 25,
   "id": "c0b4d750-1e46-47c5-907e-8932b8f03197",
   "metadata": {},
   "outputs": [
    {
     "data": {
      "text/html": [
       "<div>\n",
       "<style scoped>\n",
       "    .dataframe tbody tr th:only-of-type {\n",
       "        vertical-align: middle;\n",
       "    }\n",
       "\n",
       "    .dataframe tbody tr th {\n",
       "        vertical-align: top;\n",
       "    }\n",
       "\n",
       "    .dataframe thead th {\n",
       "        text-align: right;\n",
       "    }\n",
       "</style>\n",
       "<table border=\"1\" class=\"dataframe\">\n",
       "  <thead>\n",
       "    <tr style=\"text-align: right;\">\n",
       "      <th></th>\n",
       "      <th>date</th>\n",
       "      <th>area</th>\n",
       "      <th>aprice</th>\n",
       "      <th>code</th>\n",
       "      <th>sold</th>\n",
       "      <th>crimes</th>\n",
       "      <th>year</th>\n",
       "    </tr>\n",
       "  </thead>\n",
       "  <tbody>\n",
       "    <tr>\n",
       "      <th>0</th>\n",
       "      <td>1995-01-01</td>\n",
       "      <td>city of london</td>\n",
       "      <td>91449</td>\n",
       "      <td>E09000001</td>\n",
       "      <td>17.0</td>\n",
       "      <td>NaN</td>\n",
       "      <td>1995</td>\n",
       "    </tr>\n",
       "    <tr>\n",
       "      <th>1</th>\n",
       "      <td>1995-02-01</td>\n",
       "      <td>city of london</td>\n",
       "      <td>82203</td>\n",
       "      <td>E09000001</td>\n",
       "      <td>7.0</td>\n",
       "      <td>NaN</td>\n",
       "      <td>1995</td>\n",
       "    </tr>\n",
       "    <tr>\n",
       "      <th>2</th>\n",
       "      <td>1995-03-01</td>\n",
       "      <td>city of london</td>\n",
       "      <td>79121</td>\n",
       "      <td>E09000001</td>\n",
       "      <td>14.0</td>\n",
       "      <td>NaN</td>\n",
       "      <td>1995</td>\n",
       "    </tr>\n",
       "    <tr>\n",
       "      <th>3</th>\n",
       "      <td>1995-04-01</td>\n",
       "      <td>city of london</td>\n",
       "      <td>77101</td>\n",
       "      <td>E09000001</td>\n",
       "      <td>7.0</td>\n",
       "      <td>NaN</td>\n",
       "      <td>1995</td>\n",
       "    </tr>\n",
       "    <tr>\n",
       "      <th>4</th>\n",
       "      <td>1995-05-01</td>\n",
       "      <td>city of london</td>\n",
       "      <td>84409</td>\n",
       "      <td>E09000001</td>\n",
       "      <td>10.0</td>\n",
       "      <td>NaN</td>\n",
       "      <td>1995</td>\n",
       "    </tr>\n",
       "  </tbody>\n",
       "</table>\n",
       "</div>"
      ],
      "text/plain": [
       "        date            area  aprice       code  sold  crimes  year\n",
       "0 1995-01-01  city of london   91449  E09000001  17.0     NaN  1995\n",
       "1 1995-02-01  city of london   82203  E09000001   7.0     NaN  1995\n",
       "2 1995-03-01  city of london   79121  E09000001  14.0     NaN  1995\n",
       "3 1995-04-01  city of london   77101  E09000001   7.0     NaN  1995\n",
       "4 1995-05-01  city of london   84409  E09000001  10.0     NaN  1995"
      ]
     },
     "execution_count": 25,
     "metadata": {},
     "output_type": "execute_result"
    }
   ],
   "source": [
    "df.head()"
   ]
  },
  {
   "cell_type": "markdown",
   "id": "7e9872c1-51e3-4308-80d1-564a7b2c437a",
   "metadata": {},
   "source": [
    " ### Add a new column ''month'' as 2nd column in the dataframe, which contains month only.\n",
    " "
   ]
  },
  {
   "cell_type": "code",
   "execution_count": 45,
   "id": "4dfcbdaa-19d5-4964-b0c5-58738574e10b",
   "metadata": {},
   "outputs": [],
   "source": [
    "df.insert(1 , 'month' , df.date.dt.month  )"
   ]
  },
  {
   "cell_type": "code",
   "execution_count": 58,
   "id": "4f3fdb03-70a5-474b-a70f-019cd6a4e101",
   "metadata": {},
   "outputs": [
    {
     "data": {
      "text/html": [
       "<div>\n",
       "<style scoped>\n",
       "    .dataframe tbody tr th:only-of-type {\n",
       "        vertical-align: middle;\n",
       "    }\n",
       "\n",
       "    .dataframe tbody tr th {\n",
       "        vertical-align: top;\n",
       "    }\n",
       "\n",
       "    .dataframe thead th {\n",
       "        text-align: right;\n",
       "    }\n",
       "</style>\n",
       "<table border=\"1\" class=\"dataframe\">\n",
       "  <thead>\n",
       "    <tr style=\"text-align: right;\">\n",
       "      <th></th>\n",
       "      <th>date</th>\n",
       "      <th>area</th>\n",
       "      <th>aprice</th>\n",
       "      <th>code</th>\n",
       "      <th>sold</th>\n",
       "      <th>crimes</th>\n",
       "    </tr>\n",
       "  </thead>\n",
       "  <tbody>\n",
       "    <tr>\n",
       "      <th>0</th>\n",
       "      <td>1995-01-01</td>\n",
       "      <td>city of london</td>\n",
       "      <td>91449</td>\n",
       "      <td>E09000001</td>\n",
       "      <td>17.0</td>\n",
       "      <td>NaN</td>\n",
       "    </tr>\n",
       "    <tr>\n",
       "      <th>1</th>\n",
       "      <td>1995-02-01</td>\n",
       "      <td>city of london</td>\n",
       "      <td>82203</td>\n",
       "      <td>E09000001</td>\n",
       "      <td>7.0</td>\n",
       "      <td>NaN</td>\n",
       "    </tr>\n",
       "    <tr>\n",
       "      <th>2</th>\n",
       "      <td>1995-03-01</td>\n",
       "      <td>city of london</td>\n",
       "      <td>79121</td>\n",
       "      <td>E09000001</td>\n",
       "      <td>14.0</td>\n",
       "      <td>NaN</td>\n",
       "    </tr>\n",
       "    <tr>\n",
       "      <th>3</th>\n",
       "      <td>1995-04-01</td>\n",
       "      <td>city of london</td>\n",
       "      <td>77101</td>\n",
       "      <td>E09000001</td>\n",
       "      <td>7.0</td>\n",
       "      <td>NaN</td>\n",
       "    </tr>\n",
       "    <tr>\n",
       "      <th>4</th>\n",
       "      <td>1995-05-01</td>\n",
       "      <td>city of london</td>\n",
       "      <td>84409</td>\n",
       "      <td>E09000001</td>\n",
       "      <td>10.0</td>\n",
       "      <td>NaN</td>\n",
       "    </tr>\n",
       "  </tbody>\n",
       "</table>\n",
       "</div>"
      ],
      "text/plain": [
       "        date            area  aprice       code  sold  crimes\n",
       "0 1995-01-01  city of london   91449  E09000001  17.0     NaN\n",
       "1 1995-02-01  city of london   82203  E09000001   7.0     NaN\n",
       "2 1995-03-01  city of london   79121  E09000001  14.0     NaN\n",
       "3 1995-04-01  city of london   77101  E09000001   7.0     NaN\n",
       "4 1995-05-01  city of london   84409  E09000001  10.0     NaN"
      ]
     },
     "execution_count": 58,
     "metadata": {},
     "output_type": "execute_result"
    }
   ],
   "source": [
    "df.head()"
   ]
  },
  {
   "cell_type": "markdown",
   "id": "ed5b93f4-852b-4179-9436-eca8906d1fe8",
   "metadata": {},
   "source": [
    "###  Remove the columns 'year' and 'month' from the dataframe."
   ]
  },
  {
   "cell_type": "code",
   "execution_count": 50,
   "id": "259792ee-aead-4901-ba88-fa9320252220",
   "metadata": {},
   "outputs": [],
   "source": [
    "df.drop( ['months'] ,axis=1 , inplace = True )"
   ]
  },
  {
   "cell_type": "code",
   "execution_count": 51,
   "id": "1f3671d8-3610-406f-8fae-b4200ff41253",
   "metadata": {},
   "outputs": [
    {
     "data": {
      "text/html": [
       "<div>\n",
       "<style scoped>\n",
       "    .dataframe tbody tr th:only-of-type {\n",
       "        vertical-align: middle;\n",
       "    }\n",
       "\n",
       "    .dataframe tbody tr th {\n",
       "        vertical-align: top;\n",
       "    }\n",
       "\n",
       "    .dataframe thead th {\n",
       "        text-align: right;\n",
       "    }\n",
       "</style>\n",
       "<table border=\"1\" class=\"dataframe\">\n",
       "  <thead>\n",
       "    <tr style=\"text-align: right;\">\n",
       "      <th></th>\n",
       "      <th>date</th>\n",
       "      <th>area</th>\n",
       "      <th>aprice</th>\n",
       "      <th>code</th>\n",
       "      <th>sold</th>\n",
       "      <th>crimes</th>\n",
       "    </tr>\n",
       "  </thead>\n",
       "  <tbody>\n",
       "    <tr>\n",
       "      <th>0</th>\n",
       "      <td>1995-01-01</td>\n",
       "      <td>city of london</td>\n",
       "      <td>91449</td>\n",
       "      <td>E09000001</td>\n",
       "      <td>17.0</td>\n",
       "      <td>NaN</td>\n",
       "    </tr>\n",
       "    <tr>\n",
       "      <th>1</th>\n",
       "      <td>1995-02-01</td>\n",
       "      <td>city of london</td>\n",
       "      <td>82203</td>\n",
       "      <td>E09000001</td>\n",
       "      <td>7.0</td>\n",
       "      <td>NaN</td>\n",
       "    </tr>\n",
       "    <tr>\n",
       "      <th>2</th>\n",
       "      <td>1995-03-01</td>\n",
       "      <td>city of london</td>\n",
       "      <td>79121</td>\n",
       "      <td>E09000001</td>\n",
       "      <td>14.0</td>\n",
       "      <td>NaN</td>\n",
       "    </tr>\n",
       "    <tr>\n",
       "      <th>3</th>\n",
       "      <td>1995-04-01</td>\n",
       "      <td>city of london</td>\n",
       "      <td>77101</td>\n",
       "      <td>E09000001</td>\n",
       "      <td>7.0</td>\n",
       "      <td>NaN</td>\n",
       "    </tr>\n",
       "    <tr>\n",
       "      <th>4</th>\n",
       "      <td>1995-05-01</td>\n",
       "      <td>city of london</td>\n",
       "      <td>84409</td>\n",
       "      <td>E09000001</td>\n",
       "      <td>10.0</td>\n",
       "      <td>NaN</td>\n",
       "    </tr>\n",
       "  </tbody>\n",
       "</table>\n",
       "</div>"
      ],
      "text/plain": [
       "        date            area  aprice       code  sold  crimes\n",
       "0 1995-01-01  city of london   91449  E09000001  17.0     NaN\n",
       "1 1995-02-01  city of london   82203  E09000001   7.0     NaN\n",
       "2 1995-03-01  city of london   79121  E09000001  14.0     NaN\n",
       "3 1995-04-01  city of london   77101  E09000001   7.0     NaN\n",
       "4 1995-05-01  city of london   84409  E09000001  10.0     NaN"
      ]
     },
     "execution_count": 51,
     "metadata": {},
     "output_type": "execute_result"
    }
   ],
   "source": [
    "df.head()"
   ]
  },
  {
   "cell_type": "markdown",
   "id": "166a55d7-5b34-4035-9718-a57d8f99b4bd",
   "metadata": {},
   "source": [
    "###  Show all the records where 'No. of Crimes' is 0. And, how many such records are there ?"
   ]
  },
  {
   "cell_type": "code",
   "execution_count": 52,
   "id": "ac3c4bf9-fa78-45f2-b0ea-0a568ed01afa",
   "metadata": {},
   "outputs": [
    {
     "data": {
      "text/plain": [
       "104"
      ]
     },
     "execution_count": 52,
     "metadata": {},
     "output_type": "execute_result"
    }
   ],
   "source": [
    "df[df.crimes == 0]\n",
    "len(df[df.crimes == 0])"
   ]
  },
  {
   "cell_type": "markdown",
   "id": "88c480c2-6e77-46c5-a1c9-74f5ec77853a",
   "metadata": {},
   "source": [
    "### What is the maximum & minimum 'average_price' per year in england ?"
   ]
  },
  {
   "cell_type": "code",
   "execution_count": 53,
   "id": "ab03dfde-85b7-4ac4-9ebe-7feb622077d9",
   "metadata": {},
   "outputs": [
    {
     "data": {
      "text/html": [
       "<div>\n",
       "<style scoped>\n",
       "    .dataframe tbody tr th:only-of-type {\n",
       "        vertical-align: middle;\n",
       "    }\n",
       "\n",
       "    .dataframe tbody tr th {\n",
       "        vertical-align: top;\n",
       "    }\n",
       "\n",
       "    .dataframe thead th {\n",
       "        text-align: right;\n",
       "    }\n",
       "</style>\n",
       "<table border=\"1\" class=\"dataframe\">\n",
       "  <thead>\n",
       "    <tr style=\"text-align: right;\">\n",
       "      <th></th>\n",
       "      <th>date</th>\n",
       "      <th>area</th>\n",
       "      <th>aprice</th>\n",
       "      <th>code</th>\n",
       "      <th>sold</th>\n",
       "      <th>crimes</th>\n",
       "    </tr>\n",
       "  </thead>\n",
       "  <tbody>\n",
       "    <tr>\n",
       "      <th>13248</th>\n",
       "      <td>1995-01-01</td>\n",
       "      <td>england</td>\n",
       "      <td>53203</td>\n",
       "      <td>E92000001</td>\n",
       "      <td>47639.0</td>\n",
       "      <td>NaN</td>\n",
       "    </tr>\n",
       "    <tr>\n",
       "      <th>13249</th>\n",
       "      <td>1995-02-01</td>\n",
       "      <td>england</td>\n",
       "      <td>53096</td>\n",
       "      <td>E92000001</td>\n",
       "      <td>47880.0</td>\n",
       "      <td>NaN</td>\n",
       "    </tr>\n",
       "    <tr>\n",
       "      <th>13250</th>\n",
       "      <td>1995-03-01</td>\n",
       "      <td>england</td>\n",
       "      <td>53201</td>\n",
       "      <td>E92000001</td>\n",
       "      <td>67025.0</td>\n",
       "      <td>NaN</td>\n",
       "    </tr>\n",
       "    <tr>\n",
       "      <th>13251</th>\n",
       "      <td>1995-04-01</td>\n",
       "      <td>england</td>\n",
       "      <td>53591</td>\n",
       "      <td>E92000001</td>\n",
       "      <td>56925.0</td>\n",
       "      <td>NaN</td>\n",
       "    </tr>\n",
       "    <tr>\n",
       "      <th>13252</th>\n",
       "      <td>1995-05-01</td>\n",
       "      <td>england</td>\n",
       "      <td>53678</td>\n",
       "      <td>E92000001</td>\n",
       "      <td>64192.0</td>\n",
       "      <td>NaN</td>\n",
       "    </tr>\n",
       "  </tbody>\n",
       "</table>\n",
       "</div>"
      ],
      "text/plain": [
       "            date     area  aprice       code     sold  crimes\n",
       "13248 1995-01-01  england   53203  E92000001  47639.0     NaN\n",
       "13249 1995-02-01  england   53096  E92000001  47880.0     NaN\n",
       "13250 1995-03-01  england   53201  E92000001  67025.0     NaN\n",
       "13251 1995-04-01  england   53591  E92000001  56925.0     NaN\n",
       "13252 1995-05-01  england   53678  E92000001  64192.0     NaN"
      ]
     },
     "execution_count": 53,
     "metadata": {},
     "output_type": "execute_result"
    }
   ],
   "source": [
    "df1 = df[df.area == 'england']\n",
    "df1.head()"
   ]
  },
  {
   "cell_type": "code",
   "execution_count": 54,
   "id": "3458744f-ff01-46a5-87a0-8c6f2c7ebe47",
   "metadata": {},
   "outputs": [
    {
     "name": "stdout",
     "output_type": "stream",
     "text": [
      "<class 'pandas.core.frame.DataFrame'>\n",
      "Int64Index: 301 entries, 13248 to 13548\n",
      "Data columns (total 6 columns):\n",
      " #   Column  Non-Null Count  Dtype         \n",
      "---  ------  --------------  -----         \n",
      " 0   date    301 non-null    datetime64[ns]\n",
      " 1   area    301 non-null    object        \n",
      " 2   aprice  301 non-null    int64         \n",
      " 3   code    301 non-null    object        \n",
      " 4   sold    299 non-null    float64       \n",
      " 5   crimes  0 non-null      float64       \n",
      "dtypes: datetime64[ns](1), float64(2), int64(1), object(2)\n",
      "memory usage: 16.5+ KB\n"
     ]
    }
   ],
   "source": [
    "df1.info()"
   ]
  },
  {
   "cell_type": "code",
   "execution_count": 64,
   "id": "74e43aea-5bfb-4ceb-88a4-1552e20fcfff",
   "metadata": {},
   "outputs": [
    {
     "name": "stderr",
     "output_type": "stream",
     "text": [
      "/var/folders/m5/m10j6c8d27jbstnz46x270nc0000gn/T/ipykernel_12033/577681342.py:1: SettingWithCopyWarning: \n",
      "A value is trying to be set on a copy of a slice from a DataFrame.\n",
      "Try using .loc[row_indexer,col_indexer] = value instead\n",
      "\n",
      "See the caveats in the documentation: https://pandas.pydata.org/pandas-docs/stable/user_guide/indexing.html#returning-a-view-versus-a-copy\n",
      "  df1['year'] = df1.date.dt.year\n"
     ]
    },
    {
     "data": {
      "text/html": [
       "<div>\n",
       "<style scoped>\n",
       "    .dataframe tbody tr th:only-of-type {\n",
       "        vertical-align: middle;\n",
       "    }\n",
       "\n",
       "    .dataframe tbody tr th {\n",
       "        vertical-align: top;\n",
       "    }\n",
       "\n",
       "    .dataframe thead th {\n",
       "        text-align: right;\n",
       "    }\n",
       "</style>\n",
       "<table border=\"1\" class=\"dataframe\">\n",
       "  <thead>\n",
       "    <tr style=\"text-align: right;\">\n",
       "      <th></th>\n",
       "      <th>date</th>\n",
       "      <th>area</th>\n",
       "      <th>aprice</th>\n",
       "      <th>code</th>\n",
       "      <th>sold</th>\n",
       "      <th>crimes</th>\n",
       "      <th>year</th>\n",
       "    </tr>\n",
       "  </thead>\n",
       "  <tbody>\n",
       "    <tr>\n",
       "      <th>13248</th>\n",
       "      <td>1995-01-01</td>\n",
       "      <td>england</td>\n",
       "      <td>53203</td>\n",
       "      <td>E92000001</td>\n",
       "      <td>47639.0</td>\n",
       "      <td>NaN</td>\n",
       "      <td>1995</td>\n",
       "    </tr>\n",
       "    <tr>\n",
       "      <th>13249</th>\n",
       "      <td>1995-02-01</td>\n",
       "      <td>england</td>\n",
       "      <td>53096</td>\n",
       "      <td>E92000001</td>\n",
       "      <td>47880.0</td>\n",
       "      <td>NaN</td>\n",
       "      <td>1995</td>\n",
       "    </tr>\n",
       "    <tr>\n",
       "      <th>13250</th>\n",
       "      <td>1995-03-01</td>\n",
       "      <td>england</td>\n",
       "      <td>53201</td>\n",
       "      <td>E92000001</td>\n",
       "      <td>67025.0</td>\n",
       "      <td>NaN</td>\n",
       "      <td>1995</td>\n",
       "    </tr>\n",
       "    <tr>\n",
       "      <th>13251</th>\n",
       "      <td>1995-04-01</td>\n",
       "      <td>england</td>\n",
       "      <td>53591</td>\n",
       "      <td>E92000001</td>\n",
       "      <td>56925.0</td>\n",
       "      <td>NaN</td>\n",
       "      <td>1995</td>\n",
       "    </tr>\n",
       "    <tr>\n",
       "      <th>13252</th>\n",
       "      <td>1995-05-01</td>\n",
       "      <td>england</td>\n",
       "      <td>53678</td>\n",
       "      <td>E92000001</td>\n",
       "      <td>64192.0</td>\n",
       "      <td>NaN</td>\n",
       "      <td>1995</td>\n",
       "    </tr>\n",
       "  </tbody>\n",
       "</table>\n",
       "</div>"
      ],
      "text/plain": [
       "            date     area  aprice       code     sold  crimes  year\n",
       "13248 1995-01-01  england   53203  E92000001  47639.0     NaN  1995\n",
       "13249 1995-02-01  england   53096  E92000001  47880.0     NaN  1995\n",
       "13250 1995-03-01  england   53201  E92000001  67025.0     NaN  1995\n",
       "13251 1995-04-01  england   53591  E92000001  56925.0     NaN  1995\n",
       "13252 1995-05-01  england   53678  E92000001  64192.0     NaN  1995"
      ]
     },
     "execution_count": 64,
     "metadata": {},
     "output_type": "execute_result"
    }
   ],
   "source": [
    "df1['year'] = df1.date.dt.year\n",
    "df1.head()"
   ]
  },
  {
   "cell_type": "code",
   "execution_count": 62,
   "id": "b5c70647-4155-43cd-940b-bc95e1eae975",
   "metadata": {},
   "outputs": [
    {
     "data": {
      "text/plain": [
       "year\n",
       "1995     53322.416667\n",
       "1996     54151.500000\n",
       "1997     59160.666667\n",
       "1998     64301.666667\n",
       "1999     70070.750000\n",
       "2000     80814.333333\n",
       "2001     90306.750000\n",
       "2002    107981.500000\n",
       "2003    130218.583333\n",
       "2004    152314.416667\n",
       "2005    163570.000000\n",
       "2006    174351.500000\n",
       "2007    190025.583333\n",
       "2008    182379.916667\n",
       "2009    166558.666667\n",
       "2010    177472.666667\n",
       "2011    175230.000000\n",
       "2012    177488.000000\n",
       "2013    182581.416667\n",
       "2014    197771.083333\n",
       "2015    211174.750000\n",
       "2016    227337.166667\n",
       "2017    238161.166667\n",
       "2018    245018.333333\n",
       "2019    247101.083333\n",
       "2020    247355.000000\n",
       "Name: aprice, dtype: float64"
      ]
     },
     "execution_count": 62,
     "metadata": {},
     "output_type": "execute_result"
    }
   ],
   "source": [
    "df1.groupby('year').aprice.mean()\n"
   ]
  },
  {
   "cell_type": "code",
   "execution_count": 73,
   "id": "77fd1072-17ad-4aed-80d2-7b42bed2055b",
   "metadata": {},
   "outputs": [
    {
     "data": {
      "text/plain": [
       "53322.416666666664"
      ]
     },
     "execution_count": 73,
     "metadata": {},
     "output_type": "execute_result"
    }
   ],
   "source": [
    "df1.groupby('year').aprice.mean().min()\n",
    "#finding minimum value"
   ]
  },
  {
   "cell_type": "code",
   "execution_count": 67,
   "id": "8329b516-40b5-4d5f-a332-7c438292f994",
   "metadata": {},
   "outputs": [
    {
     "data": {
      "text/plain": [
       "247355.0"
      ]
     },
     "execution_count": 67,
     "metadata": {},
     "output_type": "execute_result"
    }
   ],
   "source": [
    "df1.groupby('year').aprice.mean().max()\n",
    "#finding maximum value"
   ]
  },
  {
   "cell_type": "markdown",
   "id": "22d6ec3a-041d-4c36-b01c-8490fd073819",
   "metadata": {},
   "source": [
    "### What is the Maximum & Minimum No. of Crimes recorded per area ?\n"
   ]
  },
  {
   "cell_type": "code",
   "execution_count": 71,
   "id": "5b164a78-63b0-4c47-b753-2a67d3ca0352",
   "metadata": {},
   "outputs": [
    {
     "data": {
      "text/plain": [
       "area\n",
       "westminster               3504.0\n",
       "lambeth                   2381.0\n",
       "southwark                 2267.0\n",
       "newham                    2130.0\n",
       "camden                    2079.0\n",
       "croydon                   2031.0\n",
       "islington                 1871.0\n",
       "ealing                    1871.0\n",
       "hackney                   1870.0\n",
       "brent                     1850.0\n",
       "barnet                    1703.0\n",
       "lewisham                  1675.0\n",
       "tower hamlets             1646.0\n",
       "enfield                   1635.0\n",
       "wandsworth                1582.0\n",
       "waltham forest            1575.0\n",
       "haringey                  1536.0\n",
       "hounslow                  1529.0\n",
       "greenwich                 1513.0\n",
       "redbridge                 1487.0\n",
       "hillingdon                1445.0\n",
       "bromley                   1441.0\n",
       "kensington and chelsea    1347.0\n",
       "hammersmith and fulham    1323.0\n",
       "barking and dagenham      1217.0\n",
       "havering                  1130.0\n",
       "harrow                     937.0\n",
       "bexley                     860.0\n",
       "merton                     819.0\n",
       "sutton                     787.0\n",
       "richmond upon thames       700.0\n",
       "kingston upon thames       692.0\n",
       "city of london               0.0\n",
       "east midlands                NaN\n",
       "east of england              NaN\n",
       "england                      NaN\n",
       "inner london                 NaN\n",
       "london                       NaN\n",
       "north east                   NaN\n",
       "north west                   NaN\n",
       "outer london                 NaN\n",
       "south east                   NaN\n",
       "south west                   NaN\n",
       "west midlands                NaN\n",
       "yorks and the humber         NaN\n",
       "Name: crimes, dtype: float64"
      ]
     },
     "execution_count": 71,
     "metadata": {},
     "output_type": "execute_result"
    }
   ],
   "source": [
    "df.groupby('area').crimes.min().sort_values(ascending = False)"
   ]
  },
  {
   "cell_type": "code",
   "execution_count": null,
   "id": "bc808241-ee79-44ac-977c-46e770871f6e",
   "metadata": {},
   "outputs": [],
   "source": []
  }
 ],
 "metadata": {
  "kernelspec": {
   "display_name": "Python 3 (ipykernel)",
   "language": "python",
   "name": "python3"
  },
  "language_info": {
   "codemirror_mode": {
    "name": "ipython",
    "version": 3
   },
   "file_extension": ".py",
   "mimetype": "text/x-python",
   "name": "python",
   "nbconvert_exporter": "python",
   "pygments_lexer": "ipython3",
   "version": "3.9.13"
  }
 },
 "nbformat": 4,
 "nbformat_minor": 5
}
